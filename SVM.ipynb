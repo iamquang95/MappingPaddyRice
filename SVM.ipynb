{
 "cells": [
  {
   "cell_type": "code",
   "execution_count": 11,
   "metadata": {
    "collapsed": true
   },
   "outputs": [],
   "source": [
    "import ROIHelper\n",
    "import numpy as np\n",
    "from sklearn.svm import SVC\n",
    "from sklearn.model_selection import cross_val_score\n",
    "from sklearn.model_selection import train_test_split\n",
    "from sklearn.metrics import classification_report, accuracy_score\n",
    "import os.path\n",
    "from sklearn.externals import joblib\n",
    "from sklearn.model_selection import GridSearchCV, RandomizedSearchCV\n",
    "from sklearn.preprocessing import StandardScaler"
   ]
  },
  {
   "cell_type": "code",
   "execution_count": 14,
   "metadata": {
    "collapsed": true
   },
   "outputs": [],
   "source": [
    "def prepare_data():\n",
    "        dir = \"PaddyRice ROI\"\n",
    "        pos_data = np.array([])\n",
    "        neg_data = np.array([])\n",
    "        for year in [2005, 2010, 2015]:\n",
    "            new_pos_data = ROIHelper.readPosSample(dir, year)\n",
    "            pos_data = np.vstack((pos_data, new_pos_data)) if pos_data.size else new_pos_data\n",
    "            new_neg_data = ROIHelper.readNegSample(dir, year)\n",
    "            neg_data = np.vstack((neg_data, new_neg_data)) if neg_data.size else new_neg_data\n",
    "\n",
    "        n_data = pos_data.shape[0] + neg_data.shape[0]\n",
    "        labels = np.vstack((pos_data[:, 0:1], neg_data[:, 0:1])).reshape(n_data)\n",
    "        data = np.vstack((pos_data[:, 1:], neg_data[:, 1:]))\n",
    "        return data, labels"
   ]
  },
  {
   "cell_type": "code",
   "execution_count": 15,
   "metadata": {
    "collapsed": true
   },
   "outputs": [],
   "source": [
    "def train():\n",
    "        data, labels = prepare_data()\n",
    "        original_data = data.copy()\n",
    "        test_size = 0\n",
    "        X_train, X_test, y_train, y_test = train_test_split(data, labels, test_size=test_size, random_state=113)\n",
    "        \n",
    "        C_range = np.logspace(-4, 4, 9)\n",
    "        gamma_range = np.logspace(-4, 4, 9)\n",
    "        param_grid = dict(gamma=gamma_range, C=C_range)\n",
    "        param_grid['kernel'] = ['rbf']\n",
    "        print param_grid\n",
    "        # print \"Number of training data: %d\" % X_train.shape[0]\n",
    "        # print \"Number of feature: %d\" % X_train.shape[1]\n",
    "        # clf = svm.SVC()\n",
    "        # clf.fit(X_train, y_train)\n",
    "        # joblib.dump(clf, \"svm_model.pkl\")\n",
    "        # scores = cross_val_score(clf, data, labels, cv=4)\n",
    "        # print scores, np.mean(scores)\n",
    "        # if (X_test.shape[0] > 0):\n",
    "        #     y_pred = clf.predict(X_test)\n",
    "        #     print(classification_report(y_test, y_pred))\n",
    "        #     print \"Accuracy:\", accuracy_score(y_test, y_pred)\n",
    "\n",
    "        # Testing with other features: only 1 index per month\n",
    "        feature_month_index = [0]\n",
    "        curr_day = 1\n",
    "        curr_month = 1\n",
    "        for i in range(1, 46):\n",
    "            curr_day += 8\n",
    "            if (curr_day > curr_month*60):\n",
    "                curr_month += 1\n",
    "                feature_month_index.append(i)\n",
    "        final_index = feature_month_index\n",
    "        next_index = feature_month_index\n",
    "        for i in range(2):\n",
    "            next_index = [x+46 for x in next_index]\n",
    "            final_index.extend(next_index)\n",
    "\n",
    "        data = data[:, final_index]\n",
    "        X_train, X_test, y_train, y_test = train_test_split(data, labels, test_size=test_size, random_state=113)\n",
    "        print \"\\nNumber of feature: %d\" % X_train.shape[1]\n",
    "        clf = GridSearchCV(SVC(), param_grid=param_grid, cv=10)\n",
    "        clf.fit(X_train, y_train)\n",
    "        \n",
    "        \n",
    "#         joblib.dump(clf, \"svm_model.pkl\")\n",
    "#         scores = cross_val_score(clf, data, labels, cv=4)\n",
    "#         print scores, np.mean(scores)\n",
    "#         if (X_test.shape[0] > 0):\n",
    "#             y_pred = clf.predict(X_test)\n",
    "#             print(classification_report(y_test, y_pred))\n",
    "#             print \"Accuracy:\", accuracy_score(y_test, y_pred)\n",
    "\n",
    "        #Testing using avg of each index\n",
    "        # tmp = original_data\n",
    "        # xx = np.amin(tmp[:, 46*(i-1):46*i], axis=1, keepdims=True)\n",
    "        # for i in range(1, 4):\n",
    "        #     index_data_min = np.amin(tmp[:, 46*(i-1):46*i], axis=1, keepdims=True)\n",
    "        #     index_data_max = np.amax(tmp[:, 46*(i-1):46*i], axis=1, keepdims=True)\n",
    "        #     index_data_avg = np.mean(tmp[:, 46*(i-1):46*i], axis=1, keepdims=True)\n",
    "        #     index_data = np.hstack((index_data_min, index_data_max, index_data_avg))\n",
    "        #     data = np.hstack((data, index_data)) if i > 1 else index_data\n",
    "        # # print \"Size:\", np.sum(data[:, 0:46], axis=1, keepdims=True).shape\n",
    "        # X_train, X_test, y_train, y_test = train_test_split(data, labels, test_size=test_size, random_state=113)\n",
    "        # print \"\\nNumber of feature: %d\" % X_train.shape[1]\n",
    "        # clf3 = svm.SVC()\n",
    "        # clf3.fit(X_train, y_train)\n",
    "        # joblib.dump(clf, \"svm_model.pkl\")\n",
    "        # scores = cross_val_score(clf3, data, labels, cv=4)\n",
    "        # print scores, np.mean(scores)\n",
    "        # if (X_test.shape[0] > 0):\n",
    "        #     y_pred = clf3.predict(X_test)\n",
    "        #     print(classification_report(y_test, y_pred))\n",
    "        #     print \"Accuracy:\", accuracy_score(y_test, y_pred)\n",
    "        return clf"
   ]
  },
  {
   "cell_type": "code",
   "execution_count": 8,
   "metadata": {
    "collapsed": false
   },
   "outputs": [
    {
     "name": "stdout",
     "output_type": "stream",
     "text": [
      "{'kernel': ['rbf'], 'C': array([  1.00000000e-04,   1.00000000e-03,   1.00000000e-02,\n",
      "         1.00000000e-01,   1.00000000e+00,   1.00000000e+01,\n",
      "         1.00000000e+02,   1.00000000e+03,   1.00000000e+04]), 'gamma': array([  1.00000000e-04,   1.00000000e-03,   1.00000000e-02,\n",
      "         1.00000000e-01,   1.00000000e+00,   1.00000000e+01,\n",
      "         1.00000000e+02,   1.00000000e+03,   1.00000000e+04])}\n",
      "\n",
      "Number of feature: 21\n"
     ]
    }
   ],
   "source": [
    "grid = train()"
   ]
  },
  {
   "cell_type": "code",
   "execution_count": 9,
   "metadata": {
    "collapsed": false
   },
   "outputs": [
    {
     "name": "stdout",
     "output_type": "stream",
     "text": [
      "{'kernel': 'rbf', 'C': 10000.0, 'gamma': 10.0}\n",
      "0.799307958478\n",
      "SVC(C=10000.0, cache_size=200, class_weight=None, coef0=0.0,\n",
      "  decision_function_shape=None, degree=3, gamma=10.0, kernel='rbf',\n",
      "  max_iter=-1, probability=False, random_state=None, shrinking=True,\n",
      "  tol=0.001, verbose=False)\n"
     ]
    }
   ],
   "source": [
    "print grid.best_params_\n",
    "print grid.best_score_\n",
    "print grid.best_estimator_"
   ]
  },
  {
   "cell_type": "code",
   "execution_count": 6,
   "metadata": {
    "collapsed": false
   },
   "outputs": [
    {
     "name": "stderr",
     "output_type": "stream",
     "text": [
      "/Users/TLMN/anaconda/envs/FIMO/lib/python2.7/site-packages/sklearn/model_selection/_search.py:667: DeprecationWarning: The grid_scores_ attribute was deprecated in version 0.18 in favor of the more elaborate cv_results_ attribute. The grid_scores_ attribute will not be available from 0.20\n",
      "  DeprecationWarning)\n"
     ]
    },
    {
     "data": {
      "text/plain": [
       "[mean: 0.58478, std: 0.00220, params: {'kernel': 'rbf', 'C': 0.0001, 'gamma': 0.0001},\n",
       " mean: 0.58478, std: 0.00220, params: {'kernel': 'rbf', 'C': 0.0001, 'gamma': 0.001},\n",
       " mean: 0.58478, std: 0.00220, params: {'kernel': 'rbf', 'C': 0.0001, 'gamma': 0.01},\n",
       " mean: 0.58478, std: 0.00220, params: {'kernel': 'rbf', 'C': 0.0001, 'gamma': 0.10000000000000001},\n",
       " mean: 0.58478, std: 0.00220, params: {'kernel': 'rbf', 'C': 0.0001, 'gamma': 1.0},\n",
       " mean: 0.58478, std: 0.00220, params: {'kernel': 'rbf', 'C': 0.0001, 'gamma': 10.0},\n",
       " mean: 0.58478, std: 0.00220, params: {'kernel': 'rbf', 'C': 0.0001, 'gamma': 100.0},\n",
       " mean: 0.58478, std: 0.00220, params: {'kernel': 'rbf', 'C': 0.0001, 'gamma': 1000.0},\n",
       " mean: 0.58478, std: 0.00220, params: {'kernel': 'rbf', 'C': 0.0001, 'gamma': 10000.0},\n",
       " mean: 0.58478, std: 0.00220, params: {'kernel': 'rbf', 'C': 0.001, 'gamma': 0.0001},\n",
       " mean: 0.58478, std: 0.00220, params: {'kernel': 'rbf', 'C': 0.001, 'gamma': 0.001},\n",
       " mean: 0.58478, std: 0.00220, params: {'kernel': 'rbf', 'C': 0.001, 'gamma': 0.01},\n",
       " mean: 0.58478, std: 0.00220, params: {'kernel': 'rbf', 'C': 0.001, 'gamma': 0.10000000000000001},\n",
       " mean: 0.58478, std: 0.00220, params: {'kernel': 'rbf', 'C': 0.001, 'gamma': 1.0},\n",
       " mean: 0.58478, std: 0.00220, params: {'kernel': 'rbf', 'C': 0.001, 'gamma': 10.0},\n",
       " mean: 0.58478, std: 0.00220, params: {'kernel': 'rbf', 'C': 0.001, 'gamma': 100.0},\n",
       " mean: 0.58478, std: 0.00220, params: {'kernel': 'rbf', 'C': 0.001, 'gamma': 1000.0},\n",
       " mean: 0.58478, std: 0.00220, params: {'kernel': 'rbf', 'C': 0.001, 'gamma': 10000.0},\n",
       " mean: 0.58478, std: 0.00220, params: {'kernel': 'rbf', 'C': 0.01, 'gamma': 0.0001},\n",
       " mean: 0.58478, std: 0.00220, params: {'kernel': 'rbf', 'C': 0.01, 'gamma': 0.001},\n",
       " mean: 0.58478, std: 0.00220, params: {'kernel': 'rbf', 'C': 0.01, 'gamma': 0.01},\n",
       " mean: 0.58478, std: 0.00220, params: {'kernel': 'rbf', 'C': 0.01, 'gamma': 0.10000000000000001},\n",
       " mean: 0.58478, std: 0.00220, params: {'kernel': 'rbf', 'C': 0.01, 'gamma': 1.0},\n",
       " mean: 0.58478, std: 0.00220, params: {'kernel': 'rbf', 'C': 0.01, 'gamma': 10.0},\n",
       " mean: 0.58478, std: 0.00220, params: {'kernel': 'rbf', 'C': 0.01, 'gamma': 100.0},\n",
       " mean: 0.58478, std: 0.00220, params: {'kernel': 'rbf', 'C': 0.01, 'gamma': 1000.0},\n",
       " mean: 0.58478, std: 0.00220, params: {'kernel': 'rbf', 'C': 0.01, 'gamma': 10000.0},\n",
       " mean: 0.58478, std: 0.00220, params: {'kernel': 'rbf', 'C': 0.10000000000000001, 'gamma': 0.0001},\n",
       " mean: 0.58478, std: 0.00220, params: {'kernel': 'rbf', 'C': 0.10000000000000001, 'gamma': 0.001},\n",
       " mean: 0.58478, std: 0.00220, params: {'kernel': 'rbf', 'C': 0.10000000000000001, 'gamma': 0.01},\n",
       " mean: 0.58478, std: 0.00220, params: {'kernel': 'rbf', 'C': 0.10000000000000001, 'gamma': 0.10000000000000001},\n",
       " mean: 0.58478, std: 0.00220, params: {'kernel': 'rbf', 'C': 0.10000000000000001, 'gamma': 1.0},\n",
       " mean: 0.58478, std: 0.00220, params: {'kernel': 'rbf', 'C': 0.10000000000000001, 'gamma': 10.0},\n",
       " mean: 0.58478, std: 0.00220, params: {'kernel': 'rbf', 'C': 0.10000000000000001, 'gamma': 100.0},\n",
       " mean: 0.59746, std: 0.02395, params: {'kernel': 'rbf', 'C': 0.10000000000000001, 'gamma': 1000.0},\n",
       " mean: 0.62168, std: 0.02945, params: {'kernel': 'rbf', 'C': 0.10000000000000001, 'gamma': 10000.0},\n",
       " mean: 0.58824, std: 0.00455, params: {'kernel': 'rbf', 'C': 1.0, 'gamma': 0.0001},\n",
       " mean: 0.58939, std: 0.00663, params: {'kernel': 'rbf', 'C': 1.0, 'gamma': 0.001},\n",
       " mean: 0.58939, std: 0.00663, params: {'kernel': 'rbf', 'C': 1.0, 'gamma': 0.01},\n",
       " mean: 0.58939, std: 0.00663, params: {'kernel': 'rbf', 'C': 1.0, 'gamma': 0.10000000000000001},\n",
       " mean: 0.59170, std: 0.00710, params: {'kernel': 'rbf', 'C': 1.0, 'gamma': 1.0},\n",
       " mean: 0.58824, std: 0.01127, params: {'kernel': 'rbf', 'C': 1.0, 'gamma': 10.0},\n",
       " mean: 0.59977, std: 0.02007, params: {'kernel': 'rbf', 'C': 1.0, 'gamma': 100.0},\n",
       " mean: 0.61822, std: 0.02835, params: {'kernel': 'rbf', 'C': 1.0, 'gamma': 1000.0},\n",
       " mean: 0.73126, std: 0.02619, params: {'kernel': 'rbf', 'C': 1.0, 'gamma': 10000.0},\n",
       " mean: 0.58708, std: 0.00329, params: {'kernel': 'rbf', 'C': 10.0, 'gamma': 0.0001},\n",
       " mean: 0.58939, std: 0.00663, params: {'kernel': 'rbf', 'C': 10.0, 'gamma': 0.001},\n",
       " mean: 0.58939, std: 0.00663, params: {'kernel': 'rbf', 'C': 10.0, 'gamma': 0.01},\n",
       " mean: 0.58939, std: 0.00663, params: {'kernel': 'rbf', 'C': 10.0, 'gamma': 0.10000000000000001},\n",
       " mean: 0.59285, std: 0.00705, params: {'kernel': 'rbf', 'C': 10.0, 'gamma': 1.0},\n",
       " mean: 0.58939, std: 0.01517, params: {'kernel': 'rbf', 'C': 10.0, 'gamma': 10.0},\n",
       " mean: 0.60554, std: 0.02273, params: {'kernel': 'rbf', 'C': 10.0, 'gamma': 100.0},\n",
       " mean: 0.74394, std: 0.03035, params: {'kernel': 'rbf', 'C': 10.0, 'gamma': 1000.0},\n",
       " mean: 0.75433, std: 0.03681, params: {'kernel': 'rbf', 'C': 10.0, 'gamma': 10000.0},\n",
       " mean: 0.58708, std: 0.00329, params: {'kernel': 'rbf', 'C': 100.0, 'gamma': 0.0001},\n",
       " mean: 0.58939, std: 0.00663, params: {'kernel': 'rbf', 'C': 100.0, 'gamma': 0.001},\n",
       " mean: 0.58939, std: 0.00663, params: {'kernel': 'rbf', 'C': 100.0, 'gamma': 0.01},\n",
       " mean: 0.59285, std: 0.00705, params: {'kernel': 'rbf', 'C': 100.0, 'gamma': 0.10000000000000001},\n",
       " mean: 0.59285, std: 0.01353, params: {'kernel': 'rbf', 'C': 100.0, 'gamma': 1.0},\n",
       " mean: 0.60438, std: 0.01550, params: {'kernel': 'rbf', 'C': 100.0, 'gamma': 10.0},\n",
       " mean: 0.75317, std: 0.04470, params: {'kernel': 'rbf', 'C': 100.0, 'gamma': 100.0},\n",
       " mean: 0.78085, std: 0.03042, params: {'kernel': 'rbf', 'C': 100.0, 'gamma': 1000.0},\n",
       " mean: 0.73818, std: 0.04525, params: {'kernel': 'rbf', 'C': 100.0, 'gamma': 10000.0},\n",
       " mean: 0.58824, std: 0.00455, params: {'kernel': 'rbf', 'C': 1000.0, 'gamma': 0.0001},\n",
       " mean: 0.58939, std: 0.00663, params: {'kernel': 'rbf', 'C': 1000.0, 'gamma': 0.001},\n",
       " mean: 0.59170, std: 0.00710, params: {'kernel': 'rbf', 'C': 1000.0, 'gamma': 0.01},\n",
       " mean: 0.59285, std: 0.00934, params: {'kernel': 'rbf', 'C': 1000.0, 'gamma': 0.10000000000000001},\n",
       " mean: 0.59862, std: 0.01549, params: {'kernel': 'rbf', 'C': 1000.0, 'gamma': 1.0},\n",
       " mean: 0.76240, std: 0.03478, params: {'kernel': 'rbf', 'C': 1000.0, 'gamma': 10.0},\n",
       " mean: 0.78201, std: 0.02860, params: {'kernel': 'rbf', 'C': 1000.0, 'gamma': 100.0},\n",
       " mean: 0.77278, std: 0.03835, params: {'kernel': 'rbf', 'C': 1000.0, 'gamma': 1000.0},\n",
       " mean: 0.71972, std: 0.04706, params: {'kernel': 'rbf', 'C': 1000.0, 'gamma': 10000.0},\n",
       " mean: 0.58824, std: 0.00607, params: {'kernel': 'rbf', 'C': 10000.0, 'gamma': 0.0001},\n",
       " mean: 0.59170, std: 0.00710, params: {'kernel': 'rbf', 'C': 10000.0, 'gamma': 0.001},\n",
       " mean: 0.59400, std: 0.00853, params: {'kernel': 'rbf', 'C': 10000.0, 'gamma': 0.01},\n",
       " mean: 0.59054, std: 0.01202, params: {'kernel': 'rbf', 'C': 10000.0, 'gamma': 0.10000000000000001},\n",
       " mean: 0.75894, std: 0.04064, params: {'kernel': 'rbf', 'C': 10000.0, 'gamma': 1.0},\n",
       " mean: 0.79931, std: 0.03145, params: {'kernel': 'rbf', 'C': 10000.0, 'gamma': 10.0},\n",
       " mean: 0.78777, std: 0.03084, params: {'kernel': 'rbf', 'C': 10000.0, 'gamma': 100.0},\n",
       " mean: 0.73933, std: 0.04898, params: {'kernel': 'rbf', 'C': 10000.0, 'gamma': 1000.0},\n",
       " mean: 0.70588, std: 0.04819, params: {'kernel': 'rbf', 'C': 10000.0, 'gamma': 10000.0}]"
      ]
     },
     "execution_count": 6,
     "metadata": {},
     "output_type": "execute_result"
    }
   ],
   "source": [
    "grid.grid_scores_"
   ]
  },
  {
   "cell_type": "code",
   "execution_count": null,
   "metadata": {
    "collapsed": true
   },
   "outputs": [],
   "source": []
  }
 ],
 "metadata": {
  "kernelspec": {
   "display_name": "Python 2",
   "language": "python",
   "name": "python2"
  },
  "language_info": {
   "codemirror_mode": {
    "name": "ipython",
    "version": 2
   },
   "file_extension": ".py",
   "mimetype": "text/x-python",
   "name": "python",
   "nbconvert_exporter": "python",
   "pygments_lexer": "ipython2",
   "version": "2.7.13"
  }
 },
 "nbformat": 4,
 "nbformat_minor": 2
}
